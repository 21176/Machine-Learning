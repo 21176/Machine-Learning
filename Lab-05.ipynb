{
 "cells": [
  {
   "cell_type": "code",
   "execution_count": 3,
   "metadata": {},
   "outputs": [
    {
     "name": "stdout",
     "output_type": "stream",
     "text": [
      "Inputs: [0, 0], Target: 0, Prediction: 1\n",
      "Inputs: [0, 1], Target: 0, Prediction: 1\n",
      "Inputs: [1, 0], Target: 0, Prediction: 1\n",
      "Inputs: [1, 1], Target: 1, Prediction: 1\n"
     ]
    }
   ],
   "source": [
    "class Perceptron:\n",
    "    def __init__(self, weights):\n",
    "        # Initialize weights with the provided values\n",
    "        self.weights = weights\n",
    "    \n",
    "    def predict(self, inputs):\n",
    "        # Calculate the weighted sum of inputs\n",
    "        weighted_sum = sum(w * x for w, x in zip(self.weights, inputs))\n",
    "        \n",
    "        # Apply the activation function (Step function)\n",
    "        if weighted_sum >= 0:\n",
    "            return 1\n",
    "        else:\n",
    "            return 0\n",
    "\n",
    "# Define the AND gate logic\n",
    "and_gate = Perceptron(weights=[10, 0.2, -0.75])\n",
    "\n",
    "# Test the AND gate perceptron\n",
    "test_data = [([0, 0], 0), ([0, 1], 0), ([1, 0], 0), ([1, 1], 1)]\n",
    "for inputs, target in test_data:\n",
    "    prediction = and_gate.predict([1] + inputs)  # Adding a bias input of 1\n",
    "    print(f\"Inputs: {inputs}, Target: {target}, Prediction: {prediction}\")\n"
   ]
  },
  {
   "cell_type": "code",
   "execution_count": null,
   "metadata": {},
   "outputs": [],
   "source": []
  }
 ],
 "metadata": {
  "kernelspec": {
   "display_name": "Python 3",
   "language": "python",
   "name": "python3"
  },
  "language_info": {
   "codemirror_mode": {
    "name": "ipython",
    "version": 3
   },
   "file_extension": ".py",
   "mimetype": "text/x-python",
   "name": "python",
   "nbconvert_exporter": "python",
   "pygments_lexer": "ipython3",
   "version": "3.10.5"
  },
  "orig_nbformat": 4
 },
 "nbformat": 4,
 "nbformat_minor": 2
}
